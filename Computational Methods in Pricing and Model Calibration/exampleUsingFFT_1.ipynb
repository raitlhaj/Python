{
 "cells": [
  {
   "cell_type": "code",
   "execution_count": 1,
   "metadata": {
    "collapsed": true
   },
   "outputs": [],
   "source": [
    "import numpy as np"
   ]
  },
  {
   "cell_type": "code",
   "execution_count": 2,
   "metadata": {},
   "outputs": [],
   "source": [
    "#An arbitrary vector Nx1 -- in our example 8x1\n",
    "\n",
    "N = 8\n",
    "x = np.array([\n",
    "        1.5+2.6j,\n",
    "        2.7+7.3j,\n",
    "        1.7+4.0j,\n",
    "        4.1+9.1j,\n",
    "        3.9+1.4j,\n",
    "        2.9+4.8j,\n",
    "        3.0+1.6j,\n",
    "        7.3+2.1j\n",
    "        ])"
   ]
  },
  {
   "cell_type": "code",
   "execution_count": 3,
   "metadata": {},
   "outputs": [
    {
     "name": "stdout",
     "output_type": "stream",
     "text": [
      "x\n",
      "(1.5+2.6j)\n",
      "(2.7+7.3j)\n",
      "(1.7+4j)\n",
      "(4.1+9.1j)\n",
      "(3.9+1.4j)\n",
      "(2.9+4.8j)\n",
      "(3+1.6j)\n",
      "(7.3+2.1j)\n"
     ]
    }
   ],
   "source": [
    "#Elements of x \n",
    "\n",
    "print('x')\n",
    "for i in x:\n",
    "    print(i)"
   ]
  },
  {
   "cell_type": "code",
   "execution_count": 4,
   "metadata": {},
   "outputs": [
    {
     "name": "stdout",
     "output_type": "stream",
     "text": [
      "==============\n",
      "      y       \n",
      "--------------\n",
      "(27.1+32.9j)\n",
      "(8.838834764831844+1.722182540694798j)\n",
      "(1.6000000000000005+4.199999999999999j)\n",
      "(-0.2038059222874411+5.486143571373725j)\n",
      "(-6.899999999999999-13.699999999999998j)\n",
      "(-8.838834764831844+3.277817459305202j)\n",
      "(-0.20000000000000018-7.399999999999999j)\n",
      "(-9.396194077712558-5.686143571373725j)\n"
     ]
    }
   ],
   "source": [
    "#Printing elements of y\n",
    "\n",
    "y  = np.fft.fft(x)\n",
    "print('==============')\n",
    "print('      y       ')\n",
    "print('--------------')\n",
    "for yj in y:\n",
    "    print(yj)"
   ]
  },
  {
   "cell_type": "code",
   "execution_count": 5,
   "metadata": {},
   "outputs": [
    {
     "name": "stdout",
     "output_type": "stream",
     "text": [
      "==============\n",
      "     yH       \n",
      "--------------\n",
      "(27.099999999999998+32.9j)\n",
      "(8.838834764831843+1.7221825406947984j)\n",
      "(1.5999999999999979+4.199999999999998j)\n",
      "(-0.20380592228744554+5.486143571373725j)\n",
      "(-6.899999999999995-13.700000000000006j)\n",
      "(-8.83883476483185+3.277817459305182j)\n",
      "(-0.20000000000000906-7.400000000000013j)\n",
      "(-9.396194077712536-5.686143571373699j)\n"
     ]
    }
   ],
   "source": [
    "# implemeting FFT explicitly\n",
    "\n",
    "yH = np.zeros(N, dtype=complex)\n",
    "jJ = np.zeros(N)\n",
    "for i in range(N):\n",
    "    jJ[i] = i\n",
    "for m in range(N):\n",
    "    yH[m]=np.sum(np.transpose(np.exp((-1j*2.0*np.pi/N)*m*jJ))*x)\n",
    "\n",
    "    \n",
    "print('==============')\n",
    "print('     yH       ')\n",
    "print('--------------')\n",
    "for yj in yH:\n",
    "    print(yj)"
   ]
  },
  {
   "cell_type": "markdown",
   "metadata": {},
   "source": [
    "How to get the x back?\n",
    "\n",
    "Getting x back by calling x = ifft(y)"
   ]
  },
  {
   "cell_type": "code",
   "execution_count": 6,
   "metadata": {},
   "outputs": [
    {
     "name": "stdout",
     "output_type": "stream",
     "text": [
      "===================\n",
      " Get x back from y \n",
      "-------------------\n",
      "(1.5000000000000004+2.6000000000000005j)\n",
      "(2.7+7.299999999999999j)\n",
      "(1.7000000000000006+4j)\n",
      "(4.099999999999999+9.1j)\n",
      "(3.9+1.4000000000000004j)\n",
      "(2.9000000000000004+4.799999999999999j)\n",
      "(3.0000000000000004+1.6000000000000005j)\n",
      "(7.3+2.0999999999999996j)\n"
     ]
    }
   ],
   "source": [
    "x_ = np.fft.ifft(y)    \n",
    "print('===================')\n",
    "print(' Get x back from y ')\n",
    "print('-------------------')\n",
    "for xi in x_:\n",
    "    print(xi)"
   ]
  },
  {
   "cell_type": "code",
   "execution_count": 7,
   "metadata": {},
   "outputs": [
    {
     "name": "stdout",
     "output_type": "stream",
     "text": [
      "===================\n",
      " Get x back from y \n",
      "-------------------\n",
      "(1.5000000000000007+2.6000000000000005j)\n",
      "(2.7000000000000006+7.3j)\n",
      "(1.7000000000000006+4j)\n",
      "(4.100000000000001+9.1j)\n",
      "(3.899999999999999+1.399999999999999j)\n",
      "(2.9000000000000012+4.799999999999998j)\n",
      "(3.000000000000003+1.6000000000000005j)\n",
      "(7.299999999999994+2.1j)\n"
     ]
    }
   ],
   "source": [
    "# implemeting IFFT explicitly\n",
    "\n",
    "xH = np.zeros(N, dtype=complex) \n",
    "for m in range(N):\n",
    "    xH[m]= np.sum(np.exp((1j*2.0*np.pi/N)*m*jJ)*y)/N \n",
    " \n",
    "print('===================')\n",
    "print(' Get x back from y ')\n",
    "print('-------------------')            \n",
    "for xi in xH:\n",
    "    print(xi)"
   ]
  },
  {
   "cell_type": "code",
   "execution_count": null,
   "metadata": {
    "collapsed": true
   },
   "outputs": [],
   "source": []
  }
 ],
 "metadata": {
  "kernelspec": {
   "display_name": "Python 3",
   "language": "python",
   "name": "python3"
  },
  "language_info": {
   "codemirror_mode": {
    "name": "ipython",
    "version": 3
   },
   "file_extension": ".py",
   "mimetype": "text/x-python",
   "name": "python",
   "nbconvert_exporter": "python",
   "pygments_lexer": "ipython3",
   "version": "3.11.1"
  },
  "vscode": {
   "interpreter": {
    "hash": "4647e8f9bb9c23de8158615a764c6ae3466649a5b7984d657ad51295c379afa7"
   }
  }
 },
 "nbformat": 4,
 "nbformat_minor": 2
}
