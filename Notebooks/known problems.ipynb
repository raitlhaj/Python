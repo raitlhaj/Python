{
 "cells": [
  {
   "cell_type": "markdown",
   "id": "2b8f2a31",
   "metadata": {},
   "source": [
    "# Minimum amount of coins"
   ]
  },
  {
   "cell_type": "raw",
   "id": "52479132",
   "metadata": {},
   "source": [
    "Given a value V, if we want to make a change for V in Rs, and we have an infinite supply of each of the denominations in Indian currency, i.e., we have an infinite supply of { 1, 2, 5, 10, 20, 50, 100, 500, 1000} valued coins, what is the minimum number of coins needed to make the change?\n",
    "\n",
    "Examples:  \n",
    "\n",
    "Input: V = 70\n",
    "We need a 50 R coin and a 20 R coin.\n",
    "Output: 2\n",
    "\n",
    "Input: V = 121\n",
    "We need a 100 R coin , a 20 R coin and a 1 R coin.\n",
    "Output: 3"
   ]
  },
  {
   "cell_type": "code",
   "execution_count": 7,
   "id": "3102f507",
   "metadata": {},
   "outputs": [],
   "source": [
    "def minimum_amount(x):\n",
    "    coins = [1, 2, 5, 10, 20, 50, 100, 500, 1000]\n",
    "    coins_used = []\n",
    "    coins.sort(reverse=True)\n",
    "    for i in coins:\n",
    "        if i <= x:\n",
    "            coins_used.append((i, x//i))\n",
    "            x = x % i\n",
    "    print('miminum amount of coins is', sum([coins_used[i][1] for i in range(len(coins_used))]))"
   ]
  },
  {
   "cell_type": "code",
   "execution_count": 8,
   "id": "a07e452c",
   "metadata": {},
   "outputs": [
    {
     "name": "stdout",
     "output_type": "stream",
     "text": [
      "miminum amount of coins is 3\n"
     ]
    }
   ],
   "source": [
    "minimum_amount(506)"
   ]
  },
  {
   "cell_type": "raw",
   "id": "2f7bd9a3",
   "metadata": {},
   "source": [
    "Time Complexity: O(V).\n",
    "Limits of the algo: The above approach may not work for all denominations. For example, it doesn’t work for denominations {9, 6, 5, 1} and V = 11. The above approach would print 9, 1 and 1. But we can use 2 denominations 5 and 6."
   ]
  },
  {
   "cell_type": "code",
   "execution_count": 63,
   "id": "b06e00c3",
   "metadata": {},
   "outputs": [],
   "source": [
    "#General Algo\n",
    "import sys\n",
    "def gen_minimum_amount(coins,x):\n",
    "    coins.sort(reverse=True)\n",
    "    min_for_all_value = {i: sys.maxsize for i in range(x+1)}\n",
    "    min_for_all_value.update({i: 1 for i in coins})\n",
    "    min_for_all_value[0] = 0\n",
    "    for i in range(1, x+1):\n",
    "        res = 0\n",
    "        for j in coins:\n",
    "            if j <= i:\n",
    "                res = min_for_all_value[j] + min_for_all_value[i-j]\n",
    "                if res <min_for_all_value[i]:\n",
    "                    min_for_all_value[i] = res    \n",
    "    return min_for_all_value[x]"
   ]
  },
  {
   "cell_type": "code",
   "execution_count": 64,
   "id": "75600b04",
   "metadata": {},
   "outputs": [
    {
     "data": {
      "text/plain": [
       "2"
      ]
     },
     "execution_count": 64,
     "metadata": {},
     "output_type": "execute_result"
    }
   ],
   "source": [
    "gen_minimum_amount([9, 6, 5, 1],11)"
   ]
  },
  {
   "cell_type": "markdown",
   "id": "85ab98e9",
   "metadata": {},
   "source": [
    "# Binary number in a linked list"
   ]
  },
  {
   "cell_type": "raw",
   "id": "acbcb11a",
   "metadata": {},
   "source": [
    "Given head which is a reference node to a singly-linked list. The value of each node in the linked list is either 0 or 1. The linked list holds the binary representation of a number.\n",
    "\n",
    "Return the decimal value of the number in the linked list.\n",
    "\n",
    "example : \n",
    "Input: head = [1,0,1]\n",
    "Output: 5\n",
    "Explanation: (101) in base 2 = (5) in base 10"
   ]
  },
  {
   "cell_type": "code",
   "execution_count": 24,
   "id": "6454f275",
   "metadata": {},
   "outputs": [],
   "source": [
    "#This is to practice the linked lists you could simply use int(value,2) to have to final result xD\n",
    "class linked_list:\n",
    "    \n",
    "    def __init__(self):\n",
    "        self.head = None\n",
    "        \n",
    "    def print_list(self):\n",
    "        n = self.head\n",
    "        while n is not None:\n",
    "            print(n.value)\n",
    "            n= n.nextvalue\n",
    "            \n",
    "class node:\n",
    "    def __init__(self,value):\n",
    "        self.value = value\n",
    "        self.nextvalue = None\n",
    "\n",
    "def create_linked_list(liste):\n",
    "    mylinkedlist = linked_list()\n",
    "    mylinkedlist.head = node(liste.pop(0))\n",
    "    while liste != []:\n",
    "        last = mylinkedlist.head\n",
    "        while last.nextvalue:\n",
    "            last = last.nextvalue\n",
    "        last.nextvalue = node(liste.pop(0))\n",
    "    return mylinkedlist\n",
    "\n",
    "def get_int_number(linkedlist):\n",
    "    res = []\n",
    "    val = linkedlist.head\n",
    "    while val is not None:\n",
    "        res.append(str(val.value))\n",
    "        val = val.nextvalue\n",
    "    c = ''.join(res)\n",
    "    return int(c,2)"
   ]
  },
  {
   "cell_type": "code",
   "execution_count": 26,
   "id": "1797ae5c",
   "metadata": {},
   "outputs": [
    {
     "data": {
      "text/plain": [
       "14009"
      ]
     },
     "execution_count": 26,
     "metadata": {},
     "output_type": "execute_result"
    }
   ],
   "source": [
    "linkedlist=  create_linked_list([1,1,0,1,1,0,1,0,1,1,1,0,0,1])\n",
    "get_int_number(linkedlist)"
   ]
  },
  {
   "cell_type": "markdown",
   "id": "cca35d4d",
   "metadata": {},
   "source": [
    "# Gaming Array"
   ]
  },
  {
   "cell_type": "raw",
   "id": "29b372b8",
   "metadata": {},
   "source": [
    "Andy wants to play a game with his little brother, Bob. The game starts with an array of distinct integers and the rules are as follows:\n",
    "\n",
    "Bob always plays first.\n",
    "In a single move, a player chooses the maximum element in the array. He removes it and all elements to its right. For example, if the starting array , then it becomes  after removing .\n",
    "The two players alternate turns.\n",
    "The last player who can make a move wins.\n",
    "Andy and Bob play g games. Given the initial array for each game, find and print the name of the winner on a new line. "
   ]
  },
  {
   "cell_type": "code",
   "execution_count": 58,
   "id": "c9c226c2",
   "metadata": {},
   "outputs": [],
   "source": [
    "def who_wins(arr):\n",
    "    winner = 1\n",
    "    while len(arr) > 1:\n",
    "        arr= arr[:arr.index(max(arr))]\n",
    "        winner *= -1\n",
    "    if winner ==1:\n",
    "        return 'Bob'\n",
    "    else:\n",
    "        return 'Andy'"
   ]
  },
  {
   "cell_type": "code",
   "execution_count": 61,
   "id": "458ab43c",
   "metadata": {},
   "outputs": [
    {
     "data": {
      "text/plain": [
       "'Bob'"
      ]
     },
     "execution_count": 61,
     "metadata": {},
     "output_type": "execute_result"
    }
   ],
   "source": [
    "arr =[0,1,2,9,6,7,11,2,3]\n",
    "who_wins(arr)"
   ]
  },
  {
   "cell_type": "markdown",
   "id": "084c82e3",
   "metadata": {},
   "source": [
    "# Diverse Deputations"
   ]
  },
  {
   "cell_type": "raw",
   "id": "91d2cfca",
   "metadata": {},
   "source": [
    "Given four integers n, w, m and k where, \n",
    " \n",
    "\n",
    "m is the total number of men.\n",
    "w is the total number of women.\n",
    "n is the total number of people that need to be selected to form the team.\n",
    "k is the minimum number of men that have to be selected.\n",
    "The task is to find the number of ways in which the team can be formed.\n",
    "Examples: \n",
    " \n",
    "\n",
    "Input: m = 2, w = 2, n = 3, k = 1 \n",
    "Output: 4 \n",
    "There are 2 men, 2 women. We need to make a team of size 3 with at least one man and one woman. We can make the team in following ways. \n",
    "m1 m2 w1 \n",
    "m1 w1 w2 \n",
    "m2 w1 w2 \n",
    "m1 m2 w2\n",
    "Input: m = 7, w = 6, n = 5, k = 3 \n",
    "Output: 756\n",
    "Input: m = 5, w = 6, n = 6, k = 3 \n",
    "Output: 281 "
   ]
  },
  {
   "cell_type": "code",
   "execution_count": 77,
   "id": "4ad07b7d",
   "metadata": {},
   "outputs": [],
   "source": [
    "import itertools\n",
    "\n",
    "def get_team(m,w,n,k):\n",
    "    men = [0 for i in range(m)]\n",
    "    women = [1 for i in range(w)]\n",
    "    return len([l for l in list(itertools.combinations(men+women,n)) if l.count(0) >=k])"
   ]
  },
  {
   "cell_type": "code",
   "execution_count": 78,
   "id": "75bc232c",
   "metadata": {},
   "outputs": [
    {
     "data": {
      "text/plain": [
       "756"
      ]
     },
     "execution_count": 78,
     "metadata": {},
     "output_type": "execute_result"
    }
   ],
   "source": [
    "get_team(7,6,5,3)"
   ]
  },
  {
   "cell_type": "markdown",
   "id": "7b91ed3f",
   "metadata": {},
   "source": [
    "# Collatz Sequence Sum"
   ]
  },
  {
   "cell_type": "raw",
   "id": "ce0831c2",
   "metadata": {},
   "source": [
    "Starting with any positive integer N, Collatz sequence is defined corresponding to n as the numbers formed by the following operations :\n",
    " \n",
    "\n",
    "If n is even, then n = n / 2.\n",
    "If n is odd, then n = 3*n + 1.\n",
    "Repeat above steps, until it becomes 1.\n",
    "Note: Just for the purpose of this problem, we define that the sequence starting at  has total length of .\n",
    "\n",
    "Let g(k) be the largest integer not greater than k , which generates the longest Collatz sequence. The task is to find the sum g(1) + g(2) +...+ g(T)\n",
    "inputs: 1<= A,B <= 1000, 1<= T<= 200\n",
    "output: the sum\n",
    "\n",
    "This is an online problem. It means that the input is generated using the below generation method:\n",
    "N[0] = 0\n",
    "for i = 1 to T:\n",
    "   N[i] = (A * N[i-1] + B)\n",
    "Let g(k) be the largest integer not greater than k , which generates the longest sequence. Theng(N1) = 3, g(N2)=7 ,g(N3) =9 and respective length of these longest sequences are 8, 17 and 20 . The result is the sum of numbers generating these longest sequences, so it's equal to 3+7+9=19."
   ]
  },
  {
   "cell_type": "code",
   "execution_count": 139,
   "id": "4c942e59",
   "metadata": {},
   "outputs": [],
   "source": [
    "def create_sequence(n):\n",
    "    res = [n]\n",
    "    while n > 1:\n",
    "        if n%2==0:\n",
    "            n //= 2   \n",
    "        else:\n",
    "            n = 3*n + 1\n",
    "        res.append(n)\n",
    "    return res\n",
    "\n",
    "def collatz_sum(a , b , t):\n",
    "    N= [0 for i in range(t+1)]\n",
    "    for i in range(1,t+1):\n",
    "        N[i] = a*N[i-1] + b\n",
    "    nb_sequence = {}\n",
    "    max_sequence = {}\n",
    "    for i in N[1:]:\n",
    "        max_sec = (0,0)\n",
    "        for j in range(1,i+1):   \n",
    "            if j not in nb_sequence.keys():\n",
    "                nb_sequence[j] = len(create_sequence(j))\n",
    "            if nb_sequence[j] > max_sec[0]:\n",
    "                max_sec = (nb_sequence[j],j)\n",
    "        max_sequence[i] = max_sec\n",
    "    return sum([i[1] for i in max_sequence.values()])"
   ]
  },
  {
   "cell_type": "code",
   "execution_count": 140,
   "id": "13f402ae",
   "metadata": {},
   "outputs": [
    {
     "data": {
      "text/plain": [
       "19"
      ]
     },
     "execution_count": 140,
     "metadata": {},
     "output_type": "execute_result"
    }
   ],
   "source": [
    "collatz_sum(1,4,3)"
   ]
  },
  {
   "cell_type": "markdown",
   "id": "c63df7ec",
   "metadata": {},
   "source": [
    "# Complementing a strand of DNA"
   ]
  },
  {
   "cell_type": "raw",
   "id": "23fdf775",
   "metadata": {},
   "source": [
    "In DNA strings, symbols 'A' and 'T' are complements of each other, as are 'C' and 'G'.\n",
    "\n",
    "The reverse complement of a DNA string s is the string sc formed by reversing the symbols of s, then taking the complement of each symbol (e.g., the reverse complement of \"GTCA\" is \"TGAC\").\n",
    "\n",
    "Given: A DNA string s of length at most 1000 bp.\n",
    "\n",
    "Return: The reverse complement sc of s. "
   ]
  },
  {
   "cell_type": "code",
   "execution_count": 163,
   "id": "0948fda3",
   "metadata": {},
   "outputs": [],
   "source": [
    "def reverse_complementing_dna(dna):\n",
    "    reverse_dna = list(dna[::-1])\n",
    "    dic_corresp = {'A': 'T', 'T' : 'A', 'C' : 'G', 'G' : 'C'}\n",
    "    return  ''.join([dic_corresp[i] for i in reverse_dna])"
   ]
  },
  {
   "cell_type": "code",
   "execution_count": 164,
   "id": "85db8438",
   "metadata": {},
   "outputs": [
    {
     "data": {
      "text/plain": [
       "'TGAC'"
      ]
     },
     "execution_count": 164,
     "metadata": {},
     "output_type": "execute_result"
    }
   ],
   "source": [
    "reverse_complementing_dna('GTCA')"
   ]
  },
  {
   "cell_type": "markdown",
   "id": "783772b0",
   "metadata": {},
   "source": [
    "# Balanced Array"
   ]
  },
  {
   "cell_type": "raw",
   "id": "11f11092",
   "metadata": {},
   "source": [
    "Emma has an array  of size n where n is an even number. An array is balanced if the sum of the left half of the array elements is equal to the sum of right half.\n",
    "To balance an array, Emma can add a non-negative integer x to any array element. Your task is to find the smallest value of x that makes the array balanced."
   ]
  },
  {
   "cell_type": "code",
   "execution_count": 165,
   "id": "e670062e",
   "metadata": {},
   "outputs": [],
   "source": [
    "def balance_array(array):\n",
    "    if len(array)%2 != 0:\n",
    "        return 'lenght of the array is not even'\n",
    "    else:\n",
    "        n = len(array)\n",
    "        return abs(sum(array[:n/2]) - sum(array[n/2:]))"
   ]
  },
  {
   "cell_type": "code",
   "execution_count": null,
   "id": "2bbd82cb",
   "metadata": {},
   "outputs": [],
   "source": []
  }
 ],
 "metadata": {
  "kernelspec": {
   "display_name": "Python 3",
   "language": "python",
   "name": "python3"
  },
  "language_info": {
   "codemirror_mode": {
    "name": "ipython",
    "version": 3
   },
   "file_extension": ".py",
   "mimetype": "text/x-python",
   "name": "python",
   "nbconvert_exporter": "python",
   "pygments_lexer": "ipython3",
   "version": "3.8.8"
  }
 },
 "nbformat": 4,
 "nbformat_minor": 5
}
