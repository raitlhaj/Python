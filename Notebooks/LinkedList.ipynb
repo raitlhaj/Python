
class LinkedList:
    
    def __init__( self, value):
        self.value = value
        self.next = None
        self.first = self
        self.last = self
               
    def affiche(self):
        current = self.first
        stri ="[list] : "
        while current is not None:
           stri+=" "+str(current.value)
           current = current.next
        print(stri)   
                
    def addLast(self, node):
        
        if(self is None):
            self.first = self.last = node
        else:
            current = self.first
            
            while current.next is not None:
                current = current.next          
            current.next = node    
            current.last = node
                 
    def addFirst( self, node):
        
        if(self.value is None):
            self = self.last = node
            self.next = None
        else:
            node.next = self.first
            self.first = node   
    
    def indexOf(self, val) -> int:
        if(self.last is None): return -1 
       
        current = self.first
        ind = 0
        
        while current:
            if( current.value == val):
                return ind
            current = current.next
            ind += 1
            
        return -1
    

        
    def removeLast(self)-> LinkedList:
        
        prev = self.getPrev()
        current = self
        
        while current.value != prev.value:
            current = current.next
            
        current.next = None
        self.last = current
        
            
    def getPrev(self) -> LinkedList:     
      current = self
      prev = current
      while current.next is not None:
            prev = current
            current = current.next
            
      return prev
  
    def removeFirst(self):
        
        second = self.first.next
        self.first.next = None
        self.first = second
    
    
    def reblance(self):
        current = self.first
        
        if current.first and current.first.next:
            first = current.first
            second = current.first.next
            
            first.next = second.next
            second.next = first
            self.first = second
    
    def reblanceWhile(self):  
        
        dummy = LinkedList(1)
        dummy.next = self.first
        current = dummy
        
        while  current.next and current.next.next:
            first = current.next
            second = current.next.next
            
            first.next = second.next
            current.next = second
            current.next.next = first
            
            current = current.next.next
            
        self.first = dummy.next 

        
                 
v = LinkedList(20)

v.addFirst(LinkedList(1))
v.addFirst(LinkedList(0))
v.addLast(LinkedList(7))
v.addLast(LinkedList(142))
v.addLast(LinkedList(120))

v.affiche()
print("Index : ", str(v.indexOf(7)) )  
prev = v.getPrev()
print("Previous node has as value: "+ str(prev.value))
v.removeLast()
v.affiche()
v.removeFirst()
v.affiche()
v.reblance()
v.affiche()
v.reblanceWhile()
v.affiche()
