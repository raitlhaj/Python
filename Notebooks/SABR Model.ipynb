{
 "cells": [
  {
   "cell_type": "code",
   "execution_count": null,
   "metadata": {},
   "outputs": [
    {
     "name": "stdout",
     "output_type": "stream",
     "text": [
      "Requirement already satisfied: pysabr in c:\\users\\administrateur\\appdata\\local\\programs\\python\\python311\\lib\\site-packages (0.4.1)\n",
      "Requirement already satisfied: numpy in c:\\users\\administrateur\\appdata\\local\\programs\\python\\python311\\lib\\site-packages (from pysabr) (1.24.1)\n",
      "Requirement already satisfied: scipy in c:\\users\\administrateur\\appdata\\local\\programs\\python\\python311\\lib\\site-packages (from pysabr) (1.10.1)\n",
      "Requirement already satisfied: falcon in c:\\users\\administrateur\\appdata\\local\\programs\\python\\python311\\lib\\site-packages (from pysabr) (3.1.3)\n",
      "Note: you may need to restart the kernel to use updated packages.\n"
     ]
    }
   ],
   "source": [
    "pip install pysabr\n"
   ]
  },
  {
   "cell_type": "code",
   "execution_count": null,
   "metadata": {},
   "outputs": [
    {
     "data": {
      "text/plain": [
       "39.99999984043036"
      ]
     },
     "execution_count": 2,
     "metadata": {},
     "output_type": "execute_result"
    }
   ],
   "source": [
    "from pysabr import Hagan2002LognormalSABR\n",
    "# Forward = 2.5%, Shift = 3%, ATM Normal Vol = 40bps\n",
    "# Beta = 0.5, Rho = -20%, Volvol = 0.30\n",
    "sabr = Hagan2002LognormalSABR(f=0.025, shift=0.03, t=1., v_atm_n=0.0040,\n",
    "                              beta=0.5, rho=-0.2, volvol=0.30)\n",
    "k = 0.025\n",
    "sabr.lognormal_vol(k) * 100\n",
    "# returns 7.27\n",
    "sabr.normal_vol(k) *1e4\n",
    "# returns 40\n"
   ]
  },
  {
   "cell_type": "code",
   "execution_count": null,
   "metadata": {},
   "outputs": [
    {
     "name": "stdout",
     "output_type": "stream",
     "text": [
      "[0.025299981543872408, -0.24629917637849533, 0.29080056256856096]\n"
     ]
    }
   ],
   "source": [
    "from pysabr import Hagan2002LognormalSABR\n",
    "import numpy as np\n",
    "sabr = Hagan2002LognormalSABR(f=2.5271/100, shift=3/100, t=10, beta=0.5)\n",
    "k = np.array([-0.4729, 0.5271, 1.0271, 1.5271, 1.7771, 2.0271, 2.2771, 2.4021,\n",
    "              2.5271, 2.6521, 2.7771, 3.0271, 3.2771, 3.5271, 4.0271, 4.5271,\n",
    "              5.5271]) / 100\n",
    "v_sln = np.array([19.641923, 15.785344, 14.305103, 13.073869, 12.550007, 12.088721,\n",
    "              11.691661, 11.517660, 11.360133, 11.219058, 11.094293, 10.892464,\n",
    "              10.750834, 10.663653, 10.623862, 10.714479, 11.103755])\n",
    "[alpha, rho, volvol] = sabr.fit(k, v_sln)\n",
    "print([alpha, rho, volvol])\n",
    "# returns [0.025299981543599154, -0.24629917636394097, 0.2908005625794777]"
   ]
  }
 ],
 "metadata": {
  "kernelspec": {
   "display_name": "Python 3",
   "language": "python",
   "name": "python3"
  },
  "language_info": {
   "codemirror_mode": {
    "name": "ipython",
    "version": 3
   },
   "file_extension": ".py",
   "mimetype": "text/x-python",
   "name": "python",
   "nbconvert_exporter": "python",
   "pygments_lexer": "ipython3",
   "version": "3.11.1"
  },
  "orig_nbformat": 4,
  "vscode": {
   "interpreter": {
    "hash": "4647e8f9bb9c23de8158615a764c6ae3466649a5b7984d657ad51295c379afa7"
   }
  }
 },
 "nbformat": 4,
 "nbformat_minor": 2
}
